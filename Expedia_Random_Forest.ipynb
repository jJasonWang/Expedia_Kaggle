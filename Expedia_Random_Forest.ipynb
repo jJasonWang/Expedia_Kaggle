{
 "cells": [
  {
   "cell_type": "code",
   "execution_count": 1,
   "metadata": {
    "collapsed": true
   },
   "outputs": [],
   "source": [
    "from __future__ import print_function, absolute_import, division\n",
    "\n",
    "import numpy as np\n",
    "import pandas as pd\n",
    "from sklearn.ensemble import RandomForestClassifier\n",
    "from sklearn import preprocessing\n",
    "import matplotlib.pyplot as plt\n",
    "import pickle\n",
    "import csv\n",
    "%matplotlib inline\n",
    "\n",
    "from average_precision import apk, mapk"
   ]
  },
  {
   "cell_type": "markdown",
   "metadata": {},
   "source": [
    "### Data"
   ]
  },
  {
   "cell_type": "code",
   "execution_count": 2,
   "metadata": {
    "collapsed": true
   },
   "outputs": [],
   "source": [
    "# Data\n",
    "expedia_train = pd.read_csv('Data/train.csv', nrows=100000)\n",
    "\n",
    "# Pull out features\n",
    "train_cols = ['site_name', 'user_location_country', 'user_location_region', 'user_location_city',\n",
    "              'is_mobile', 'is_package', 'channel', 'srch_adults_cnt',\n",
    "              'srch_children_cnt', 'srch_rm_cnt', 'srch_destination_id', 'srch_destination_type_id',\n",
    "              'hotel_continent','hotel_country', 'hotel_market', 'hotel_cluster']\n",
    "\n",
    "# Save ID\n",
    "user_id = expedia_train['user_id'].ravel()\n",
    "expedia_train = expedia_train[train_cols]\n",
    "X_train = expedia_train.iloc[:, :-1]\n",
    "y_train = expedia_train.iloc[:, -1]"
   ]
  },
  {
   "cell_type": "markdown",
   "metadata": {},
   "source": [
    "### Random Forest"
   ]
  },
  {
   "cell_type": "code",
   "execution_count": 3,
   "metadata": {
    "collapsed": true
   },
   "outputs": [],
   "source": [
    "rf_clf = RandomForestClassifier(n_estimators=100, max_features=4)\n",
    "rf_clf.fit(X_train, y_train)\n",
    "probs = rf_clf.predict_proba(X_train)"
   ]
  },
  {
   "cell_type": "code",
   "execution_count": 4,
   "metadata": {
    "collapsed": true
   },
   "outputs": [],
   "source": [
    "def top_5(x):\n",
    "    return(np.argsort(x)[-5:][::-1])\n",
    "\n",
    "def change_format(ls):\n",
    "    return(' '.join([str(l) for l in ls]))\n",
    "\n",
    "def pred(probs, user_id):\n",
    "    # Get the top 5 hotel\n",
    "    top5 = np.apply_along_axis(top_5, 1, probs)\n",
    "    \n",
    "    return([[id, change_format(top5[i])] for i, id in enumerate(user_id)])\n",
    "\n",
    "predictions = pred(probs, user_id)"
   ]
  },
  {
   "cell_type": "markdown",
   "metadata": {},
   "source": [
    "### Evaluation"
   ]
  },
  {
   "cell_type": "code",
   "execution_count": 5,
   "metadata": {
    "collapsed": true
   },
   "outputs": [],
   "source": [
    "# Load the user_hotel which can be used for evaluation\n",
    "user_hotel = pickle.load(open(\"user_hotel.p\", \"rb\"))"
   ]
  },
  {
   "cell_type": "code",
   "execution_count": 12,
   "metadata": {
    "collapsed": false
   },
   "outputs": [
    {
     "data": {
      "text/plain": [
       "0.012117738704529412"
      ]
     },
     "execution_count": 12,
     "metadata": {},
     "output_type": "execute_result"
    }
   ],
   "source": [
    "def evaluation(true_dict, prediction, k=5):\n",
    "    actuals = []\n",
    "    preds = []\n",
    "    for _, p in enumerate(prediction):\n",
    "        try:\n",
    "            true_value = true_dict[p[0]]\n",
    "        except:\n",
    "            true_value = []\n",
    "        pred = [float(h) for h in p[1].split(' ') if len(h) != 0]\n",
    "        actuals.append(true_value)\n",
    "        preds.append(pred)\n",
    "\n",
    "    return(mapk(actuals, preds, k))\n",
    "\n",
    "evaluation(user_hotel, predictions, k=5)"
   ]
  },
  {
   "cell_type": "markdown",
   "metadata": {},
   "source": [
    "### Test"
   ]
  },
  {
   "cell_type": "code",
   "execution_count": 7,
   "metadata": {
    "collapsed": true
   },
   "outputs": [],
   "source": [
    "expedia_test = pd.read_csv('Data/test.csv')\n",
    "test_id = expedia_test['id'].ravel()\n",
    "expedia_test = expedia_test[train_cols[:-1]]"
   ]
  },
  {
   "cell_type": "code",
   "execution_count": 9,
   "metadata": {
    "collapsed": false
   },
   "outputs": [
    {
     "name": "stdout",
     "output_type": "stream",
     "text": [
      "Starting 0th prediction\n",
      "Starting 500000th prediction\n",
      "Starting 1000000th prediction\n",
      "Starting 1500000th prediction\n",
      "Starting 2000000th prediction\n",
      "Starting 2500000th prediction\n"
     ]
    }
   ],
   "source": [
    "predictions = []\n",
    "i = 0\n",
    "while i < len(expedia_test):\n",
    "    if i % 500000 == 0: print(\"Starting \" + str(i) + \"th prediction\")\n",
    "    predictions.extend(pred(rf_clf.predict_proba(expedia_test[i:(i + 50000)]), test_id[i:(i + 50000)]))\n",
    "    i += 50000"
   ]
  },
  {
   "cell_type": "code",
   "execution_count": 10,
   "metadata": {
    "collapsed": true
   },
   "outputs": [],
   "source": [
    "with open('prediction_RF.csv', 'w') as outfile:\n",
    "    csv_out = csv.writer(outfile)\n",
    "    csv_out.writerow(['id', 'hotel_cluster'])\n",
    "    for i, cluster in enumerate(predictions):\n",
    "        csv_out.writerow([i, cluster])"
   ]
  }
 ],
 "metadata": {
  "kernelspec": {
   "display_name": "Python 2",
   "language": "python",
   "name": "python2"
  },
  "language_info": {
   "codemirror_mode": {
    "name": "ipython",
    "version": 2
   },
   "file_extension": ".py",
   "mimetype": "text/x-python",
   "name": "python",
   "nbconvert_exporter": "python",
   "pygments_lexer": "ipython2",
   "version": "2.7.11"
  }
 },
 "nbformat": 4,
 "nbformat_minor": 0
}
